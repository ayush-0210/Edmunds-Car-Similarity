{
  "nbformat": 4,
  "nbformat_minor": 0,
  "metadata": {
    "colab": {
      "name": "AnalyticsForUnstructuredData_Assignment1.ipynb",
      "provenance": [],
      "collapsed_sections": [],
      "include_colab_link": true
    },
    "kernelspec": {
      "name": "python3",
      "display_name": "Python 3"
    },
    "language_info": {
      "name": "python"
    },
    "accelerator": "GPU"
  },
  "cells": [
    {
      "cell_type": "markdown",
      "metadata": {
        "id": "view-in-github",
        "colab_type": "text"
      },
      "source": [
        "<a href=\"https://colab.research.google.com/github/ayush-0210/Edmunds-Car-Similarity/blob/main/Edmunds-Car-Similarity.ipynb\" target=\"_parent\"><img src=\"https://colab.research.google.com/assets/colab-badge.svg\" alt=\"Open In Colab\"/></a>"
      ]
    },
    {
      "cell_type": "markdown",
      "metadata": {
        "id": "v1GmScMaFI69"
      },
      "source": [
        "Team Members: \n",
        "\n",
        "\n",
        "1.   Kaushik Kumaran (kk34537)\n",
        "2.   Ayush Malani (am95655)\n",
        "3.   Harsh Mehta (hdm564)\n",
        "4.   Charan Musunuru (cm59982)\n",
        "5.   Allie Touchstone (awt529)\n"
      ]
    },
    {
      "cell_type": "markdown",
      "metadata": {
        "id": "QcL2e-Ics1Q2"
      },
      "source": [
        "## Web scraping code"
      ]
    },
    {
      "cell_type": "markdown",
      "metadata": {
        "id": "UKa41ulItIki"
      },
      "source": [
        "Installing the required libraries"
      ]
    },
    {
      "cell_type": "code",
      "metadata": {
        "id": "89cB_GbCW2wx",
        "colab": {
          "base_uri": "https://localhost:8080/"
        },
        "outputId": "c76d2ee3-6ab2-4442-9729-09934fdfe5b2"
      },
      "source": [
        "#Selenium is an open-source tool that automates web browsers.\n",
        "!pip install selenium\n",
        "!apt-get -q update   #Used to handle installation and removal of softwares and libraries\n",
        "!apt install -yq chromium-chromedriver #ChromeDriver is a separate executable that Selenium WebDriver uses to control Chrome.\n",
        "!cp /usr/lib/chromium-browser/chromedriver /usr/bin\n",
        "\n",
        "import sys\n",
        "sys.path.insert(0,'/usr/lib/chromium-browser/chromedriver')\n",
        "from selenium import webdriver \n",
        "#WebDriver is a browser automation framework that works with open source APIs. \n",
        "#The framework operates by accepting commands, sending those commands to a browser, and interacting with applications.\n",
        "chrome_options = webdriver.ChromeOptions()\n",
        "chrome_options.add_argument('--headless')\n",
        "chrome_options.add_argument('--no-sandbox')\n",
        "chrome_options.add_argument('--disable-dev-shm-usage')\n",
        "!pip install nltk==3.4"
      ],
      "execution_count": null,
      "outputs": [
        {
          "output_type": "stream",
          "name": "stdout",
          "text": [
            "Collecting selenium\n",
            "  Downloading selenium-3.141.0-py2.py3-none-any.whl (904 kB)\n",
            "\u001b[?25l\r\u001b[K     |▍                               | 10 kB 18.5 MB/s eta 0:00:01\r\u001b[K     |▊                               | 20 kB 10.6 MB/s eta 0:00:01\r\u001b[K     |█                               | 30 kB 8.8 MB/s eta 0:00:01\r\u001b[K     |█▌                              | 40 kB 7.9 MB/s eta 0:00:01\r\u001b[K     |█▉                              | 51 kB 4.7 MB/s eta 0:00:01\r\u001b[K     |██▏                             | 61 kB 5.5 MB/s eta 0:00:01\r\u001b[K     |██▌                             | 71 kB 5.6 MB/s eta 0:00:01\r\u001b[K     |███                             | 81 kB 6.3 MB/s eta 0:00:01\r\u001b[K     |███▎                            | 92 kB 5.0 MB/s eta 0:00:01\r\u001b[K     |███▋                            | 102 kB 5.0 MB/s eta 0:00:01\r\u001b[K     |████                            | 112 kB 5.0 MB/s eta 0:00:01\r\u001b[K     |████▍                           | 122 kB 5.0 MB/s eta 0:00:01\r\u001b[K     |████▊                           | 133 kB 5.0 MB/s eta 0:00:01\r\u001b[K     |█████                           | 143 kB 5.0 MB/s eta 0:00:01\r\u001b[K     |█████▍                          | 153 kB 5.0 MB/s eta 0:00:01\r\u001b[K     |█████▉                          | 163 kB 5.0 MB/s eta 0:00:01\r\u001b[K     |██████▏                         | 174 kB 5.0 MB/s eta 0:00:01\r\u001b[K     |██████▌                         | 184 kB 5.0 MB/s eta 0:00:01\r\u001b[K     |██████▉                         | 194 kB 5.0 MB/s eta 0:00:01\r\u001b[K     |███████▎                        | 204 kB 5.0 MB/s eta 0:00:01\r\u001b[K     |███████▋                        | 215 kB 5.0 MB/s eta 0:00:01\r\u001b[K     |████████                        | 225 kB 5.0 MB/s eta 0:00:01\r\u001b[K     |████████▎                       | 235 kB 5.0 MB/s eta 0:00:01\r\u001b[K     |████████▊                       | 245 kB 5.0 MB/s eta 0:00:01\r\u001b[K     |█████████                       | 256 kB 5.0 MB/s eta 0:00:01\r\u001b[K     |█████████▍                      | 266 kB 5.0 MB/s eta 0:00:01\r\u001b[K     |█████████▉                      | 276 kB 5.0 MB/s eta 0:00:01\r\u001b[K     |██████████▏                     | 286 kB 5.0 MB/s eta 0:00:01\r\u001b[K     |██████████▌                     | 296 kB 5.0 MB/s eta 0:00:01\r\u001b[K     |██████████▉                     | 307 kB 5.0 MB/s eta 0:00:01\r\u001b[K     |███████████▎                    | 317 kB 5.0 MB/s eta 0:00:01\r\u001b[K     |███████████▋                    | 327 kB 5.0 MB/s eta 0:00:01\r\u001b[K     |████████████                    | 337 kB 5.0 MB/s eta 0:00:01\r\u001b[K     |████████████▎                   | 348 kB 5.0 MB/s eta 0:00:01\r\u001b[K     |████████████▊                   | 358 kB 5.0 MB/s eta 0:00:01\r\u001b[K     |█████████████                   | 368 kB 5.0 MB/s eta 0:00:01\r\u001b[K     |█████████████▍                  | 378 kB 5.0 MB/s eta 0:00:01\r\u001b[K     |█████████████▊                  | 389 kB 5.0 MB/s eta 0:00:01\r\u001b[K     |██████████████▏                 | 399 kB 5.0 MB/s eta 0:00:01\r\u001b[K     |██████████████▌                 | 409 kB 5.0 MB/s eta 0:00:01\r\u001b[K     |██████████████▉                 | 419 kB 5.0 MB/s eta 0:00:01\r\u001b[K     |███████████████▏                | 430 kB 5.0 MB/s eta 0:00:01\r\u001b[K     |███████████████▋                | 440 kB 5.0 MB/s eta 0:00:01\r\u001b[K     |████████████████                | 450 kB 5.0 MB/s eta 0:00:01\r\u001b[K     |████████████████▎               | 460 kB 5.0 MB/s eta 0:00:01\r\u001b[K     |████████████████▋               | 471 kB 5.0 MB/s eta 0:00:01\r\u001b[K     |█████████████████               | 481 kB 5.0 MB/s eta 0:00:01\r\u001b[K     |█████████████████▍              | 491 kB 5.0 MB/s eta 0:00:01\r\u001b[K     |█████████████████▊              | 501 kB 5.0 MB/s eta 0:00:01\r\u001b[K     |██████████████████▏             | 512 kB 5.0 MB/s eta 0:00:01\r\u001b[K     |██████████████████▌             | 522 kB 5.0 MB/s eta 0:00:01\r\u001b[K     |██████████████████▉             | 532 kB 5.0 MB/s eta 0:00:01\r\u001b[K     |███████████████████▏            | 542 kB 5.0 MB/s eta 0:00:01\r\u001b[K     |███████████████████▋            | 552 kB 5.0 MB/s eta 0:00:01\r\u001b[K     |████████████████████            | 563 kB 5.0 MB/s eta 0:00:01\r\u001b[K     |████████████████████▎           | 573 kB 5.0 MB/s eta 0:00:01\r\u001b[K     |████████████████████▋           | 583 kB 5.0 MB/s eta 0:00:01\r\u001b[K     |█████████████████████           | 593 kB 5.0 MB/s eta 0:00:01\r\u001b[K     |█████████████████████▍          | 604 kB 5.0 MB/s eta 0:00:01\r\u001b[K     |█████████████████████▊          | 614 kB 5.0 MB/s eta 0:00:01\r\u001b[K     |██████████████████████          | 624 kB 5.0 MB/s eta 0:00:01\r\u001b[K     |██████████████████████▌         | 634 kB 5.0 MB/s eta 0:00:01\r\u001b[K     |██████████████████████▉         | 645 kB 5.0 MB/s eta 0:00:01\r\u001b[K     |███████████████████████▏        | 655 kB 5.0 MB/s eta 0:00:01\r\u001b[K     |███████████████████████▌        | 665 kB 5.0 MB/s eta 0:00:01\r\u001b[K     |████████████████████████        | 675 kB 5.0 MB/s eta 0:00:01\r\u001b[K     |████████████████████████▎       | 686 kB 5.0 MB/s eta 0:00:01\r\u001b[K     |████████████████████████▋       | 696 kB 5.0 MB/s eta 0:00:01\r\u001b[K     |█████████████████████████       | 706 kB 5.0 MB/s eta 0:00:01\r\u001b[K     |█████████████████████████▍      | 716 kB 5.0 MB/s eta 0:00:01\r\u001b[K     |█████████████████████████▊      | 727 kB 5.0 MB/s eta 0:00:01\r\u001b[K     |██████████████████████████      | 737 kB 5.0 MB/s eta 0:00:01\r\u001b[K     |██████████████████████████▍     | 747 kB 5.0 MB/s eta 0:00:01\r\u001b[K     |██████████████████████████▉     | 757 kB 5.0 MB/s eta 0:00:01\r\u001b[K     |███████████████████████████▏    | 768 kB 5.0 MB/s eta 0:00:01\r\u001b[K     |███████████████████████████▌    | 778 kB 5.0 MB/s eta 0:00:01\r\u001b[K     |████████████████████████████    | 788 kB 5.0 MB/s eta 0:00:01\r\u001b[K     |████████████████████████████▎   | 798 kB 5.0 MB/s eta 0:00:01\r\u001b[K     |████████████████████████████▋   | 808 kB 5.0 MB/s eta 0:00:01\r\u001b[K     |█████████████████████████████   | 819 kB 5.0 MB/s eta 0:00:01\r\u001b[K     |█████████████████████████████▍  | 829 kB 5.0 MB/s eta 0:00:01\r\u001b[K     |█████████████████████████████▊  | 839 kB 5.0 MB/s eta 0:00:01\r\u001b[K     |██████████████████████████████  | 849 kB 5.0 MB/s eta 0:00:01\r\u001b[K     |██████████████████████████████▍ | 860 kB 5.0 MB/s eta 0:00:01\r\u001b[K     |██████████████████████████████▉ | 870 kB 5.0 MB/s eta 0:00:01\r\u001b[K     |███████████████████████████████▏| 880 kB 5.0 MB/s eta 0:00:01\r\u001b[K     |███████████████████████████████▌| 890 kB 5.0 MB/s eta 0:00:01\r\u001b[K     |███████████████████████████████▉| 901 kB 5.0 MB/s eta 0:00:01\r\u001b[K     |████████████████████████████████| 904 kB 5.0 MB/s \n",
            "\u001b[?25hRequirement already satisfied: urllib3 in /usr/local/lib/python3.7/dist-packages (from selenium) (1.24.3)\n",
            "Installing collected packages: selenium\n",
            "Successfully installed selenium-3.141.0\n",
            "Get:1 http://security.ubuntu.com/ubuntu bionic-security InRelease [88.7 kB]\n",
            "Get:2 https://cloud.r-project.org/bin/linux/ubuntu bionic-cran40/ InRelease [3,626 B]\n",
            "Ign:3 https://developer.download.nvidia.com/compute/cuda/repos/ubuntu1804/x86_64  InRelease\n",
            "Ign:4 https://developer.download.nvidia.com/compute/machine-learning/repos/ubuntu1804/x86_64  InRelease\n",
            "Hit:5 https://developer.download.nvidia.com/compute/cuda/repos/ubuntu1804/x86_64  Release\n",
            "Hit:6 https://developer.download.nvidia.com/compute/machine-learning/repos/ubuntu1804/x86_64  Release\n",
            "Get:7 http://ppa.launchpad.net/c2d4u.team/c2d4u4.0+/ubuntu bionic InRelease [15.9 kB]\n",
            "Hit:8 http://archive.ubuntu.com/ubuntu bionic InRelease\n",
            "Get:9 http://archive.ubuntu.com/ubuntu bionic-updates InRelease [88.7 kB]\n",
            "Get:10 https://cloud.r-project.org/bin/linux/ubuntu bionic-cran40/ Packages [67.4 kB]\n",
            "Hit:11 http://ppa.launchpad.net/cran/libgit2/ubuntu bionic InRelease\n",
            "Get:12 http://security.ubuntu.com/ubuntu bionic-security/universe amd64 Packages [1,428 kB]\n",
            "Hit:13 http://ppa.launchpad.net/deadsnakes/ppa/ubuntu bionic InRelease\n",
            "Get:15 http://archive.ubuntu.com/ubuntu bionic-backports InRelease [74.6 kB]\n",
            "Get:16 http://security.ubuntu.com/ubuntu bionic-security/main amd64 Packages [2,326 kB]\n",
            "Hit:17 http://ppa.launchpad.net/graphics-drivers/ppa/ubuntu bionic InRelease\n",
            "Get:19 http://ppa.launchpad.net/c2d4u.team/c2d4u4.0+/ubuntu bionic/main Sources [1,802 kB]\n",
            "Get:20 http://archive.ubuntu.com/ubuntu bionic-updates/universe amd64 Packages [2,202 kB]\n",
            "Get:21 http://archive.ubuntu.com/ubuntu bionic-updates/main amd64 Packages [2,770 kB]\n",
            "Get:22 http://ppa.launchpad.net/c2d4u.team/c2d4u4.0+/ubuntu bionic/main amd64 Packages [922 kB]\n",
            "Get:23 http://archive.ubuntu.com/ubuntu bionic-updates/restricted amd64 Packages [613 kB]\n",
            "Fetched 12.4 MB in 3s (3,856 kB/s)\n",
            "Reading package lists...\n",
            "Reading package lists...\n",
            "Building dependency tree...\n",
            "Reading state information...\n",
            "The following additional packages will be installed:\n",
            "  chromium-browser chromium-browser-l10n chromium-codecs-ffmpeg-extra\n",
            "Suggested packages:\n",
            "  webaccounts-chromium-extension unity-chromium-extension\n",
            "The following NEW packages will be installed:\n",
            "  chromium-browser chromium-browser-l10n chromium-chromedriver\n",
            "  chromium-codecs-ffmpeg-extra\n",
            "0 upgraded, 4 newly installed, 0 to remove and 61 not upgraded.\n",
            "Need to get 92.6 MB of archives.\n",
            "After this operation, 317 MB of additional disk space will be used.\n",
            "Get:1 http://archive.ubuntu.com/ubuntu bionic-updates/universe amd64 chromium-codecs-ffmpeg-extra amd64 93.0.4577.63-0ubuntu0.18.04.1 [1,135 kB]\n",
            "Get:2 http://archive.ubuntu.com/ubuntu bionic-updates/universe amd64 chromium-browser amd64 93.0.4577.63-0ubuntu0.18.04.1 [82.4 MB]\n",
            "Get:3 http://archive.ubuntu.com/ubuntu bionic-updates/universe amd64 chromium-browser-l10n all 93.0.4577.63-0ubuntu0.18.04.1 [4,133 kB]\n",
            "Get:4 http://archive.ubuntu.com/ubuntu bionic-updates/universe amd64 chromium-chromedriver amd64 93.0.4577.63-0ubuntu0.18.04.1 [4,961 kB]\n",
            "Fetched 92.6 MB in 5s (20.1 MB/s)\n",
            "Selecting previously unselected package chromium-codecs-ffmpeg-extra.\n",
            "(Reading database ... 155013 files and directories currently installed.)\n",
            "Preparing to unpack .../chromium-codecs-ffmpeg-extra_93.0.4577.63-0ubuntu0.18.04.1_amd64.deb ...\n",
            "Unpacking chromium-codecs-ffmpeg-extra (93.0.4577.63-0ubuntu0.18.04.1) ...\n",
            "Selecting previously unselected package chromium-browser.\n",
            "Preparing to unpack .../chromium-browser_93.0.4577.63-0ubuntu0.18.04.1_amd64.deb ...\n",
            "Unpacking chromium-browser (93.0.4577.63-0ubuntu0.18.04.1) ...\n",
            "Selecting previously unselected package chromium-browser-l10n.\n",
            "Preparing to unpack .../chromium-browser-l10n_93.0.4577.63-0ubuntu0.18.04.1_all.deb ...\n",
            "Unpacking chromium-browser-l10n (93.0.4577.63-0ubuntu0.18.04.1) ...\n",
            "Selecting previously unselected package chromium-chromedriver.\n",
            "Preparing to unpack .../chromium-chromedriver_93.0.4577.63-0ubuntu0.18.04.1_amd64.deb ...\n",
            "Unpacking chromium-chromedriver (93.0.4577.63-0ubuntu0.18.04.1) ...\n",
            "Setting up chromium-codecs-ffmpeg-extra (93.0.4577.63-0ubuntu0.18.04.1) ...\n",
            "Setting up chromium-browser (93.0.4577.63-0ubuntu0.18.04.1) ...\n",
            "update-alternatives: using /usr/bin/chromium-browser to provide /usr/bin/x-www-browser (x-www-browser) in auto mode\n",
            "update-alternatives: using /usr/bin/chromium-browser to provide /usr/bin/gnome-www-browser (gnome-www-browser) in auto mode\n",
            "Setting up chromium-chromedriver (93.0.4577.63-0ubuntu0.18.04.1) ...\n",
            "Setting up chromium-browser-l10n (93.0.4577.63-0ubuntu0.18.04.1) ...\n",
            "Processing triggers for man-db (2.8.3-2ubuntu0.1) ...\n",
            "Processing triggers for hicolor-icon-theme (0.17-2) ...\n",
            "Processing triggers for mime-support (3.60ubuntu1) ...\n",
            "Processing triggers for libc-bin (2.27-3ubuntu1.3) ...\n",
            "/sbin/ldconfig.real: /usr/local/lib/python3.7/dist-packages/ideep4py/lib/libmkldnn.so.0 is not a symbolic link\n",
            "\n",
            "cp: '/usr/lib/chromium-browser/chromedriver' and '/usr/bin/chromedriver' are the same file\n",
            "Collecting nltk==3.4\n",
            "  Downloading nltk-3.4.zip (1.4 MB)\n",
            "\u001b[K     |████████████████████████████████| 1.4 MB 5.2 MB/s \n",
            "\u001b[?25hRequirement already satisfied: six in /usr/local/lib/python3.7/dist-packages (from nltk==3.4) (1.15.0)\n",
            "Collecting singledispatch\n",
            "  Downloading singledispatch-3.7.0-py2.py3-none-any.whl (9.2 kB)\n",
            "Building wheels for collected packages: nltk\n",
            "  Building wheel for nltk (setup.py) ... \u001b[?25l\u001b[?25hdone\n",
            "  Created wheel for nltk: filename=nltk-3.4-py3-none-any.whl size=1436397 sha256=e4cf7361604fbc9233a9ed42c485158087ab278ad7cba20fb0b7332fa5fc877c\n",
            "  Stored in directory: /root/.cache/pip/wheels/13/b8/81/2349be11dd144dc7b68ab983b58cd2fae353cdc50bbdeb09d0\n",
            "Successfully built nltk\n",
            "Installing collected packages: singledispatch, nltk\n",
            "  Attempting uninstall: nltk\n",
            "    Found existing installation: nltk 3.2.5\n",
            "    Uninstalling nltk-3.2.5:\n",
            "      Successfully uninstalled nltk-3.2.5\n",
            "Successfully installed nltk-3.4 singledispatch-3.7.0\n"
          ]
        }
      ]
    },
    {
      "cell_type": "markdown",
      "metadata": {
        "id": "RPJgc68QtOHk"
      },
      "source": [
        "Importing the necessary libraries"
      ]
    },
    {
      "cell_type": "code",
      "metadata": {
        "id": "OvgAR7Blg4Zq",
        "colab": {
          "base_uri": "https://localhost:8080/"
        },
        "outputId": "c6ba7300-a847-4b1c-9176-8af697c7dea8"
      },
      "source": [
        "# !pip install pandas==1.3.3\n",
        "from sklearn.preprocessing import MinMaxScaler\n",
        "from sklearn.manifold import MDS\n",
        "import pandas as pd\n",
        "import numpy as np\n",
        "import sys\n",
        "import matplotlib.pyplot as plt\n",
        "import pandas as pd\n",
        "import nltk\n",
        "from nltk import word_tokenize\n",
        "nltk.download('stopwords')\n",
        "nltk.download('punkt')\n",
        "from nltk.corpus import stopwords\n",
        "from collections import Counter"
      ],
      "execution_count": null,
      "outputs": [
        {
          "output_type": "stream",
          "name": "stderr",
          "text": [
            "[nltk_data] Downloading package stopwords to /root/nltk_data...\n",
            "[nltk_data]   Unzipping corpora/stopwords.zip.\n",
            "[nltk_data] Downloading package punkt to /root/nltk_data...\n",
            "[nltk_data]   Unzipping tokenizers/punkt.zip.\n"
          ]
        }
      ]
    },
    {
      "cell_type": "code",
      "metadata": {
        "id": "H8R5tKqcXArm"
      },
      "source": [
        "wd = webdriver.Chrome('chromedriver',options=chrome_options)"
      ],
      "execution_count": null,
      "outputs": []
    },
    {
      "cell_type": "code",
      "metadata": {
        "id": "Xj3EYGQ0a0h3"
      },
      "source": [
        "url = \"https://forums.edmunds.com/discussion/2864/general/x/entry-level-luxury-performance-sedans/p\"\n",
        "\n",
        "comments = pd.DataFrame(columns = ['Date','comments']) \n",
        "\n",
        "# Starting from the last page to get the latest comments and run the counter until 5000 in the while loop, this gave us 5033 entries in total \n",
        "# because for the last (435th) page there are 33 comments and the counter starts after that \n",
        "\n",
        "counter = 0\n",
        "page_number = 435\n",
        "while ((counter<5000) and (page_number>0)):\n",
        "  comment_ids = []\n",
        "  wd.get(url + str(page_number))  \n",
        "  page_number -= 1\n",
        "  ids = wd.find_elements_by_xpath(\"//*[contains(@id,'Comment_')]\")\n",
        "  for i in ids:\n",
        "    comment_ids.append(i.get_attribute('id'))\n",
        "  counter += len(comment_ids)\n",
        "  for x in comment_ids:\n",
        "    # Extract dates from each post\n",
        "    user_date = wd.find_elements_by_xpath('//*[@id=\"' + x +'\"]/div/div[2]/div[2]/span[1]/a/time')[0]\n",
        "    date = user_date.get_attribute('title')\n",
        "\n",
        "    # Extract message for each user on a page removing the blockquote text (comment replies)\n",
        "    user_message = wd.find_elements_by_xpath('//*[@id=\"' + x + '\"]/div/div[3]/div/div[1]')[0]\n",
        "    if  wd.find_elements_by_xpath('//*[@id=\"' + x + '\"]/div/div[3]/div/div[1]/blockquote'):\n",
        "      blockquote = wd.find_elements_by_xpath('//*[@id=\"' + x + '\"]/div/div[3]/div/div[1]/blockquote')[0]\n",
        "      comment = user_message.text.replace(blockquote.text,'')\n",
        "    else:\n",
        "      comment = user_message.text\n",
        "                        \n",
        "  # Adding date and comment for each user in a dataframe    \n",
        "    comments.loc[len(comments)] = [date,comment]"
      ],
      "execution_count": null,
      "outputs": []
    },
    {
      "cell_type": "code",
      "metadata": {
        "id": "7uWzZSnue6lz"
      },
      "source": [
        "# Cleaning the code\n",
        "comments['Date'] = pd.to_datetime(comments['Date']).dt.date\n",
        "\n",
        "def clean_n(comment):\n",
        "  return comment.replace('\\n','')\n",
        "\n",
        "def clean_spaces(comment):\n",
        "  return comment.strip()\n",
        "\n",
        "comments['comments'] = comments['comments'].map(clean_n).map(clean_spaces)"
      ],
      "execution_count": null,
      "outputs": []
    },
    {
      "cell_type": "code",
      "metadata": {
        "id": "rr2apmfRjdHI",
        "colab": {
          "base_uri": "https://localhost:8080/",
          "height": 51
        },
        "outputId": "8e530a53-f9af-47cb-cbf7-e57d643a2f21"
      },
      "source": [
        "# Creating a csv file from the dataframe\n",
        "comments.to_csv(\"Edmunds_comments.csv\", sep=\",\")\n",
        "!ls\n",
        "from google.colab import files\n",
        "files.download(\"Edmunds_comments.csv\")"
      ],
      "execution_count": null,
      "outputs": [
        {
          "output_type": "stream",
          "name": "stdout",
          "text": [
            "'car models and brands.csv'   Edmunds_comments.csv   sample_data\n"
          ]
        },
        {
          "output_type": "display_data",
          "data": {
            "application/javascript": [
              "\n",
              "    async function download(id, filename, size) {\n",
              "      if (!google.colab.kernel.accessAllowed) {\n",
              "        return;\n",
              "      }\n",
              "      const div = document.createElement('div');\n",
              "      const label = document.createElement('label');\n",
              "      label.textContent = `Downloading \"${filename}\": `;\n",
              "      div.appendChild(label);\n",
              "      const progress = document.createElement('progress');\n",
              "      progress.max = size;\n",
              "      div.appendChild(progress);\n",
              "      document.body.appendChild(div);\n",
              "\n",
              "      const buffers = [];\n",
              "      let downloaded = 0;\n",
              "\n",
              "      const channel = await google.colab.kernel.comms.open(id);\n",
              "      // Send a message to notify the kernel that we're ready.\n",
              "      channel.send({})\n",
              "\n",
              "      for await (const message of channel.messages) {\n",
              "        // Send a message to notify the kernel that we're ready.\n",
              "        channel.send({})\n",
              "        if (message.buffers) {\n",
              "          for (const buffer of message.buffers) {\n",
              "            buffers.push(buffer);\n",
              "            downloaded += buffer.byteLength;\n",
              "            progress.value = downloaded;\n",
              "          }\n",
              "        }\n",
              "      }\n",
              "      const blob = new Blob(buffers, {type: 'application/binary'});\n",
              "      const a = document.createElement('a');\n",
              "      a.href = window.URL.createObjectURL(blob);\n",
              "      a.download = filename;\n",
              "      div.appendChild(a);\n",
              "      a.click();\n",
              "      div.remove();\n",
              "    }\n",
              "  "
            ],
            "text/plain": [
              "<IPython.core.display.Javascript object>"
            ]
          },
          "metadata": {}
        },
        {
          "output_type": "display_data",
          "data": {
            "application/javascript": [
              "download(\"download_a7598a24-9ee3-4dff-b2c7-e8fba6d95892\", \"Edmunds_comments.csv\", 2449120)"
            ],
            "text/plain": [
              "<IPython.core.display.Javascript object>"
            ]
          },
          "metadata": {}
        }
      ]
    },
    {
      "cell_type": "code",
      "metadata": {
        "id": "lqkhPp81MdX9",
        "colab": {
          "resources": {
            "http://localhost:8080/nbextensions/google.colab/files.js": {
              "data": "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",
              "ok": true,
              "headers": [
                [
                  "content-type",
                  "application/javascript"
                ]
              ],
              "status": 200,
              "status_text": ""
            }
          },
          "base_uri": "https://localhost:8080/",
          "height": 108
        },
        "outputId": "a45b6e51-7d93-45f6-b406-6f703a455796"
      },
      "source": [
        "# Uploading the data frame \n",
        "from google.colab import files\n",
        "uploaded = files.upload()"
      ],
      "execution_count": null,
      "outputs": [
        {
          "output_type": "display_data",
          "data": {
            "text/html": [
              "\n",
              "     <input type=\"file\" id=\"files-11067aa3-20a6-4349-9810-41ebcd7eeec8\" name=\"files[]\" multiple disabled\n",
              "        style=\"border:none\" />\n",
              "     <output id=\"result-11067aa3-20a6-4349-9810-41ebcd7eeec8\">\n",
              "      Upload widget is only available when the cell has been executed in the\n",
              "      current browser session. Please rerun this cell to enable.\n",
              "      </output>\n",
              "      <script src=\"/nbextensions/google.colab/files.js\"></script> "
            ],
            "text/plain": [
              "<IPython.core.display.HTML object>"
            ]
          },
          "metadata": {}
        },
        {
          "output_type": "stream",
          "name": "stdout",
          "text": [
            "Saving car models and brands.csv to car models and brands.csv\n",
            "Saving Edmunds_comments.csv to Edmunds_comments.csv\n"
          ]
        }
      ]
    },
    {
      "cell_type": "code",
      "metadata": {
        "id": "DykAgc_GMpic"
      },
      "source": [
        "comments = pd.read_csv('Edmunds_comments.csv')"
      ],
      "execution_count": null,
      "outputs": []
    },
    {
      "cell_type": "markdown",
      "metadata": {
        "id": "3NcCS1i64q-i"
      },
      "source": [
        "# Task A: Zipf's Law\n"
      ]
    },
    {
      "cell_type": "code",
      "metadata": {
        "id": "84anqboWo_3Z"
      },
      "source": [
        "def word_counts_z(x):\n",
        "    # Word tokenize your comment\n",
        "    x = str(x)\n",
        "    tokens = word_tokenize(x.lower())\n",
        "    # Creating a word frequency dictionary\n",
        "    counter = Counter(tokens)\n",
        "    return counter\n",
        "\n",
        "# Zipf's law\n",
        "zipfs_df = pd.DataFrame(list(comments['comments'].map(word_counts_z)))\n",
        "zipfs_df = zipfs_df.fillna(0)\n",
        "\n",
        "freq = dict(zipfs_df.sum())\n",
        "new = dict(sorted(freq.items(), reverse=True, key=lambda item: item[1]))"
      ],
      "execution_count": null,
      "outputs": []
    },
    {
      "cell_type": "code",
      "metadata": {
        "id": "GELElaeIryp_",
        "colab": {
          "base_uri": "https://localhost:8080/",
          "height": 283
        },
        "outputId": "ed2a15f9-d557-4702-e1ca-f99ffe253be6"
      },
      "source": [
        "# Zipf's law with no punctuations (hardcoded from the common top 100 values)\n",
        "\n",
        "new = dict(sorted(freq.items(), reverse=True, key=lambda item: item[1]))\n",
        "rem = ['!','$',\"''\",\"'m\",\"'s\",'(',')',',','-','--','.','...',':','?','``',\"n't\"]\n",
        "for i in rem:\n",
        "  new.pop(i)\n",
        "c = 0\n",
        "top_100 = {}\n",
        "for i in new:\n",
        "  top_100[i] = new[i]\n",
        "  if(c == 99):\n",
        "    break\n",
        "  c += 1\n",
        "pd.Series(top_100.values()).plot()"
      ],
      "execution_count": null,
      "outputs": [
        {
          "output_type": "execute_result",
          "data": {
            "text/plain": [
              "<matplotlib.axes._subplots.AxesSubplot at 0x7f48c283db50>"
            ]
          },
          "metadata": {},
          "execution_count": 6
        },
        {
          "output_type": "display_data",
          "data": {
            "image/png": "[encoded data removed]",
            "text/plain": [
              "<Figure size 432x288 with 1 Axes>"
            ]
          },
          "metadata": {
            "needs_background": "light"
          }
        }
      ]
    },
    {
      "cell_type": "markdown",
      "metadata": {
        "id": "te2P26yISwmR"
      },
      "source": [
        "The graph above follows Zipf's law. With increase in the rank of the word in terms of frequency, the frequency of the words decreases in accordance with Zipf's law."
      ]
    },
    {
      "cell_type": "markdown",
      "metadata": {
        "id": "VmxsOSzd4zCQ"
      },
      "source": [
        "# Task B: Top 10 brands from frequency counts"
      ]
    },
    {
      "cell_type": "code",
      "metadata": {
        "id": "5gNF01Pw5tVn"
      },
      "source": [
        "mb = pd.read_csv('car models and brands.csv')"
      ],
      "execution_count": null,
      "outputs": []
    },
    {
      "cell_type": "code",
      "metadata": {
        "colab": {
          "base_uri": "https://localhost:8080/"
        },
        "id": "84WZV7HHqgPJ",
        "outputId": "618336be-1229-4d12-9abb-3a8abe06635f"
      },
      "source": [
        "#removing words that are not brands from the brand column\n",
        "mb = mb[(mb['Brand'] != 'car') & (mb['Brand'] != 'problem') & (mb['Brand'] != 'sedan')]\n",
        "mb['Brand'].unique()"
      ],
      "execution_count": null,
      "outputs": [
        {
          "output_type": "execute_result",
          "data": {
            "text/plain": [
              "array(['acura', 'audi', 'bmw', 'buick', 'cadillac', 'chevrolet',\n",
              "       'chrysler', 'dodge', 'ford', 'honda', 'hyndai kia', 'hyundai',\n",
              "       'hyundai,', 'hyundai.', 'infiniti', 'kia', 'kia,', 'kia.',\n",
              "       'lincoln', 'mazda', 'mercedes', 'mercedes benz', 'mercedes-benz',\n",
              "       'mercury', 'mitsubishi', 'nissan', 'nissan.', 'pontiac', 'saturn',\n",
              "       'seat', 'subaru', 'suzuki', 'toyata', 'toyota', 'volkswagen',\n",
              "       'volkwagen', 'volvo'], dtype=object)"
            ]
          },
          "metadata": {},
          "execution_count": 8
        }
      ]
    },
    {
      "cell_type": "code",
      "metadata": {
        "id": "Box1p6MSqZVv"
      },
      "source": [
        "dict_mb = pd.Series(mb.Brand.values,index=mb.Model).to_dict()"
      ],
      "execution_count": null,
      "outputs": []
    },
    {
      "cell_type": "code",
      "metadata": {
        "id": "B8NLHZQI5jhl"
      },
      "source": [
        "def word_counts(x):\n",
        "    # Word tokenize your comment\n",
        "    x = str(x)\n",
        "    tokens = word_tokenize(x)\n",
        "    # Collecting the stopwords\n",
        "    stop_words = set(stopwords.words('english'))\n",
        "    \n",
        "    # Removing the stopwords\n",
        "    tokens_rm_stp = []\n",
        "    for token in tokens:\n",
        "        lt = token.lower() \n",
        "        if lt not in stop_words:\n",
        "          # Replace the models with brands\n",
        "            if(lt in dict_mb):\n",
        "              lt = dict_mb[lt]\n",
        "            tokens_rm_stp.append(lt)\n",
        "    \n",
        "    # Creating a word frequency dictionary\n",
        "    counter = Counter(tokens_rm_stp)\n",
        "    return counter"
      ],
      "execution_count": null,
      "outputs": []
    },
    {
      "cell_type": "code",
      "metadata": {
        "id": "CgEaTC7BocGH"
      },
      "source": [
        "#applying the word count function to each comment in the dataframe and creating the lift_df dataframe\n",
        "lift_df = pd.DataFrame(list(comments['comments'].map(word_counts)))\n",
        "lift_df = lift_df.fillna(0)"
      ],
      "execution_count": null,
      "outputs": []
    },
    {
      "cell_type": "code",
      "metadata": {
        "id": "tcNzAqqkwWXz"
      },
      "source": [
        "# all_word_counts.to_csv(\"all_word_counts.csv\", sep=\",\")\n",
        "# !ls\n",
        "# from google.colab import files\n",
        "# files.download(\"all_word_counts.csv\")"
      ],
      "execution_count": null,
      "outputs": []
    },
    {
      "cell_type": "code",
      "metadata": {
        "id": "rFwkuJhCQIeI",
        "colab": {
          "base_uri": "https://localhost:8080/",
          "height": 363
        },
        "outputId": "9c0fb5c4-e46d-45a3-cf57-9365b89a4e6c"
      },
      "source": [
        "# getting the frequency counts of the brands\n",
        "common = set(lift_df.columns).intersection(set(mb['Brand'].unique()))\n",
        "brands_df_rep = pd.DataFrame(columns=['Brand','Count'])\n",
        "for i in common:\n",
        "    brands_df_rep.loc[i,'Brand'] = i\n",
        "    brands_df_rep.loc[i,'Count'] = lift_df[i].sum()\n",
        "    \n",
        "brands_df_rep.sort_values(by = 'Count',ascending=False)[:10]"
      ],
      "execution_count": null,
      "outputs": [
        {
          "output_type": "execute_result",
          "data": {
            "text/html": [
              "<div>\n",
              "<style scoped>\n",
              "    .dataframe tbody tr th:only-of-type {\n",
              "        vertical-align: middle;\n",
              "    }\n",
              "\n",
              "    .dataframe tbody tr th {\n",
              "        vertical-align: top;\n",
              "    }\n",
              "\n",
              "    .dataframe thead th {\n",
              "        text-align: right;\n",
              "    }\n",
              "</style>\n",
              "<table border=\"1\" class=\"dataframe\">\n",
              "  <thead>\n",
              "    <tr style=\"text-align: right;\">\n",
              "      <th></th>\n",
              "      <th>Brand</th>\n",
              "      <th>Count</th>\n",
              "    </tr>\n",
              "  </thead>\n",
              "  <tbody>\n",
              "    <tr>\n",
              "      <th>audi</th>\n",
              "      <td>audi</td>\n",
              "      <td>2026</td>\n",
              "    </tr>\n",
              "    <tr>\n",
              "      <th>bmw</th>\n",
              "      <td>bmw</td>\n",
              "      <td>1888</td>\n",
              "    </tr>\n",
              "    <tr>\n",
              "      <th>acura</th>\n",
              "      <td>acura</td>\n",
              "      <td>968</td>\n",
              "    </tr>\n",
              "    <tr>\n",
              "      <th>honda</th>\n",
              "      <td>honda</td>\n",
              "      <td>764</td>\n",
              "    </tr>\n",
              "    <tr>\n",
              "      <th>seat</th>\n",
              "      <td>seat</td>\n",
              "      <td>481</td>\n",
              "    </tr>\n",
              "    <tr>\n",
              "      <th>volkswagen</th>\n",
              "      <td>volkswagen</td>\n",
              "      <td>414</td>\n",
              "    </tr>\n",
              "    <tr>\n",
              "      <th>cadillac</th>\n",
              "      <td>cadillac</td>\n",
              "      <td>358</td>\n",
              "    </tr>\n",
              "    <tr>\n",
              "      <th>infiniti</th>\n",
              "      <td>infiniti</td>\n",
              "      <td>343</td>\n",
              "    </tr>\n",
              "    <tr>\n",
              "      <th>hyundai</th>\n",
              "      <td>hyundai</td>\n",
              "      <td>319</td>\n",
              "    </tr>\n",
              "    <tr>\n",
              "      <th>toyota</th>\n",
              "      <td>toyota</td>\n",
              "      <td>293</td>\n",
              "    </tr>\n",
              "  </tbody>\n",
              "</table>\n",
              "</div>"
            ],
            "text/plain": [
              "                 Brand Count\n",
              "audi              audi  2026\n",
              "bmw                bmw  1888\n",
              "acura            acura   968\n",
              "honda            honda   764\n",
              "seat              seat   481\n",
              "volkswagen  volkswagen   414\n",
              "cadillac      cadillac   358\n",
              "infiniti      infiniti   343\n",
              "hyundai        hyundai   319\n",
              "toyota          toyota   293"
            ]
          },
          "metadata": {},
          "execution_count": 13
        }
      ]
    },
    {
      "cell_type": "code",
      "metadata": {
        "id": "SVxbgG-lO704"
      },
      "source": [
        "#count a brand mention once per post, even if it is mentioned multiple times in the post.\n",
        "lift_df = lift_df.applymap(lambda x : 0 if x == 0 else 1)\n",
        "all_word_counts = pd.DataFrame(lift_df.sum().sort_values(ascending=False),columns=['count'])\n",
        "brands_df = pd.DataFrame(columns=['Brand','Count'])\n",
        "for i in common:\n",
        "    brands_df.loc[i,'Brand'] = i\n",
        "    brands_df.loc[i,'Count'] = lift_df[i].sum()\n",
        "    \n",
        "#brands_df.sort_values(by = 'Count',ascending=False)[:10]"
      ],
      "execution_count": null,
      "outputs": []
    },
    {
      "cell_type": "markdown",
      "metadata": {
        "id": "hbNyEFsK4_eq"
      },
      "source": [
        "# Task C: Lift ratios of top-10 brands "
      ]
    },
    {
      "cell_type": "code",
      "metadata": {
        "id": "vb6PCnaHpeLq"
      },
      "source": [
        "a = brands_df.sort_values(by = 'Count',ascending=False)[:10]\n",
        "a.index.values\n",
        "brands_df1 = brands_df.loc[a.index.values]\n",
        "#saving the top 10 brands in top_10_brands array\n",
        "top_10_brands = brands_df1.index.values"
      ],
      "execution_count": null,
      "outputs": []
    },
    {
      "cell_type": "code",
      "metadata": {
        "id": "aot5snh-Dl4s",
        "colab": {
          "base_uri": "https://localhost:8080/",
          "height": 394
        },
        "outputId": "4441a7f4-d9da-4d40-ebce-e5880def4c8c"
      },
      "source": [
        "#calculating lift among brands\n",
        "n = len(lift_df)\n",
        "lift = pd.DataFrame(columns= brands_df1.Brand, index=brands_df1.Brand)\n",
        "for i in brands_df1['Brand']:\n",
        "  other_brands = set(brands_df1['Brand']) - set([i])\n",
        "  for j in other_brands:\n",
        "    lift.loc[i,j] = n*((lift_df[i]*lift_df[j]).sum())/(brands_df1.loc[i,'Count']* brands_df1.loc[j,'Count'])\n",
        "\n",
        "lift_half = pd.DataFrame(np.triu(lift), columns=lift.columns, index=lift.index)\n",
        "lift_half = lift_half.applymap(lambda x: '-' if x==0 else x)\n",
        "lift_half"
      ],
      "execution_count": null,
      "outputs": [
        {
          "output_type": "execute_result",
          "data": {
            "text/html": [
              "<div>\n",
              "<style scoped>\n",
              "    .dataframe tbody tr th:only-of-type {\n",
              "        vertical-align: middle;\n",
              "    }\n",
              "\n",
              "    .dataframe tbody tr th {\n",
              "        vertical-align: top;\n",
              "    }\n",
              "\n",
              "    .dataframe thead th {\n",
              "        text-align: right;\n",
              "    }\n",
              "</style>\n",
              "<table border=\"1\" class=\"dataframe\">\n",
              "  <thead>\n",
              "    <tr style=\"text-align: right;\">\n",
              "      <th>Brand</th>\n",
              "      <th>bmw</th>\n",
              "      <th>audi</th>\n",
              "      <th>acura</th>\n",
              "      <th>honda</th>\n",
              "      <th>seat</th>\n",
              "      <th>volkswagen</th>\n",
              "      <th>infiniti</th>\n",
              "      <th>cadillac</th>\n",
              "      <th>toyota</th>\n",
              "      <th>hyundai</th>\n",
              "    </tr>\n",
              "    <tr>\n",
              "      <th>Brand</th>\n",
              "      <th></th>\n",
              "      <th></th>\n",
              "      <th></th>\n",
              "      <th></th>\n",
              "      <th></th>\n",
              "      <th></th>\n",
              "      <th></th>\n",
              "      <th></th>\n",
              "      <th></th>\n",
              "      <th></th>\n",
              "    </tr>\n",
              "  </thead>\n",
              "  <tbody>\n",
              "    <tr>\n",
              "      <th>bmw</th>\n",
              "      <td>NaN</td>\n",
              "      <td>1.99369</td>\n",
              "      <td>1.39358</td>\n",
              "      <td>1.25405</td>\n",
              "      <td>2.11064</td>\n",
              "      <td>1.39538</td>\n",
              "      <td>2.05118</td>\n",
              "      <td>1.95725</td>\n",
              "      <td>1.51101</td>\n",
              "      <td>1.446845</td>\n",
              "    </tr>\n",
              "    <tr>\n",
              "      <th>audi</th>\n",
              "      <td>-</td>\n",
              "      <td>NaN</td>\n",
              "      <td>2.21534</td>\n",
              "      <td>1.81864</td>\n",
              "      <td>2.00057</td>\n",
              "      <td>2.75557</td>\n",
              "      <td>2.97045</td>\n",
              "      <td>3.07621</td>\n",
              "      <td>1.88378</td>\n",
              "      <td>1.761391</td>\n",
              "    </tr>\n",
              "    <tr>\n",
              "      <th>acura</th>\n",
              "      <td>-</td>\n",
              "      <td>-</td>\n",
              "      <td>NaN</td>\n",
              "      <td>3.78695</td>\n",
              "      <td>1.69213</td>\n",
              "      <td>1.43651</td>\n",
              "      <td>4.36404</td>\n",
              "      <td>2.32493</td>\n",
              "      <td>1.7401</td>\n",
              "      <td>1.911038</td>\n",
              "    </tr>\n",
              "    <tr>\n",
              "      <th>honda</th>\n",
              "      <td>-</td>\n",
              "      <td>-</td>\n",
              "      <td>-</td>\n",
              "      <td>NaN</td>\n",
              "      <td>1.95578</td>\n",
              "      <td>2.41971</td>\n",
              "      <td>2.16442</td>\n",
              "      <td>1.77201</td>\n",
              "      <td>3.36764</td>\n",
              "      <td>2.326646</td>\n",
              "    </tr>\n",
              "    <tr>\n",
              "      <th>seat</th>\n",
              "      <td>-</td>\n",
              "      <td>-</td>\n",
              "      <td>-</td>\n",
              "      <td>-</td>\n",
              "      <td>NaN</td>\n",
              "      <td>2.01288</td>\n",
              "      <td>1.47549</td>\n",
              "      <td>1.14673</td>\n",
              "      <td>2.53581</td>\n",
              "      <td>1.039618</td>\n",
              "    </tr>\n",
              "    <tr>\n",
              "      <th>volkswagen</th>\n",
              "      <td>-</td>\n",
              "      <td>-</td>\n",
              "      <td>-</td>\n",
              "      <td>-</td>\n",
              "      <td>-</td>\n",
              "      <td>NaN</td>\n",
              "      <td>1.86662</td>\n",
              "      <td>1.6225</td>\n",
              "      <td>2.31834</td>\n",
              "      <td>2.235843</td>\n",
              "    </tr>\n",
              "    <tr>\n",
              "      <th>infiniti</th>\n",
              "      <td>-</td>\n",
              "      <td>-</td>\n",
              "      <td>-</td>\n",
              "      <td>-</td>\n",
              "      <td>-</td>\n",
              "      <td>-</td>\n",
              "      <td>NaN</td>\n",
              "      <td>3.73126</td>\n",
              "      <td>2.14211</td>\n",
              "      <td>2.790755</td>\n",
              "    </tr>\n",
              "    <tr>\n",
              "      <th>cadillac</th>\n",
              "      <td>-</td>\n",
              "      <td>-</td>\n",
              "      <td>-</td>\n",
              "      <td>-</td>\n",
              "      <td>-</td>\n",
              "      <td>-</td>\n",
              "      <td>-</td>\n",
              "      <td>NaN</td>\n",
              "      <td>2.22745</td>\n",
              "      <td>2.513986</td>\n",
              "    </tr>\n",
              "    <tr>\n",
              "      <th>toyota</th>\n",
              "      <td>-</td>\n",
              "      <td>-</td>\n",
              "      <td>-</td>\n",
              "      <td>-</td>\n",
              "      <td>-</td>\n",
              "      <td>-</td>\n",
              "      <td>-</td>\n",
              "      <td>-</td>\n",
              "      <td>NaN</td>\n",
              "      <td>4.276368</td>\n",
              "    </tr>\n",
              "    <tr>\n",
              "      <th>hyundai</th>\n",
              "      <td>-</td>\n",
              "      <td>-</td>\n",
              "      <td>-</td>\n",
              "      <td>-</td>\n",
              "      <td>-</td>\n",
              "      <td>-</td>\n",
              "      <td>-</td>\n",
              "      <td>-</td>\n",
              "      <td>-</td>\n",
              "      <td>NaN</td>\n",
              "    </tr>\n",
              "  </tbody>\n",
              "</table>\n",
              "</div>"
            ],
            "text/plain": [
              "Brand       bmw     audi    acura    honda  ... infiniti cadillac   toyota   hyundai\n",
              "Brand                                       ...                                     \n",
              "bmw         NaN  1.99369  1.39358  1.25405  ...  2.05118  1.95725  1.51101  1.446845\n",
              "audi          -      NaN  2.21534  1.81864  ...  2.97045  3.07621  1.88378  1.761391\n",
              "acura         -        -      NaN  3.78695  ...  4.36404  2.32493   1.7401  1.911038\n",
              "honda         -        -        -      NaN  ...  2.16442  1.77201  3.36764  2.326646\n",
              "seat          -        -        -        -  ...  1.47549  1.14673  2.53581  1.039618\n",
              "volkswagen    -        -        -        -  ...  1.86662   1.6225  2.31834  2.235843\n",
              "infiniti      -        -        -        -  ...      NaN  3.73126  2.14211  2.790755\n",
              "cadillac      -        -        -        -  ...        -      NaN  2.22745  2.513986\n",
              "toyota        -        -        -        -  ...        -        -      NaN  4.276368\n",
              "hyundai       -        -        -        -  ...        -        -        -       NaN\n",
              "\n",
              "[10 rows x 10 columns]"
            ]
          },
          "metadata": {},
          "execution_count": 16
        }
      ]
    },
    {
      "cell_type": "markdown",
      "metadata": {
        "id": "NagJfsN75FQW"
      },
      "source": [
        "# Task D: MDS Map"
      ]
    },
    {
      "cell_type": "code",
      "metadata": {
        "id": "Qo2of8_62jSX"
      },
      "source": [
        "X = lift.copy()\n",
        "X.fillna(0,inplace = True)\n",
        "#calculating the dissimilarity matrix\n",
        "X_dissimilar = X.applymap(lambda x: 0 if x == 0 else 1/x)\n",
        "X_dissimilar1 = pd.DataFrame(np.triu(X_dissimilar), columns=X_dissimilar.columns, index=X_dissimilar.index)"
      ],
      "execution_count": null,
      "outputs": []
    },
    {
      "cell_type": "code",
      "metadata": {
        "id": "S5e92eeQ54wP",
        "colab": {
          "base_uri": "https://localhost:8080/",
          "height": 578
        },
        "outputId": "f8185b02-9330-4996-9e18-dfadc0ff7bc7"
      },
      "source": [
        "#plotting the MDS map\n",
        "target = X.index.values\n",
        "mds=MDS(n_components=2, dissimilarity ='precomputed', random_state=10)\n",
        "results=mds.fit(X_dissimilar)\n",
        "coordinates=results.embedding_\n",
        "\n",
        "x = coordinates[:,0]\n",
        "y = coordinates[:,1]\n",
        "\n",
        "plt.figure(figsize=(14,10))\n",
        "plt.scatter(x,y, marker='o', color='purple', s=75)\n",
        "for brand, x_coord, y_coord in zip(list(target), x, y):\n",
        "  plt.annotate(s=brand, \n",
        "               xy=(x_coord,y_coord),\n",
        "               xytext = (10, 10),\n",
        "               textcoords = 'offset points', \n",
        "               ha = 'right', \n",
        "               va = 'bottom',\n",
        "               bbox = dict(boxstyle = 'round,pad=0.5', fc = 'blue', alpha = 0.2),\n",
        "               arrowprops = dict(arrowstyle = 'simple', connectionstyle = 'arc3,rad=0'))\n",
        "\n",
        "plt.xticks([])\n",
        "plt.yticks([])\n",
        "plt.show()"
      ],
      "execution_count": null,
      "outputs": [
        {
          "output_type": "display_data",
          "data": {
            "image/png": "[encoded data removed]",
            "text/plain": [
              "<Figure size 1008x720 with 1 Axes>"
            ]
          },
          "metadata": {}
        }
      ]
    },
    {
      "cell_type": "markdown",
      "metadata": {
        "id": "fczPXRiA4BSU"
      },
      "source": [
        "# Task E: Insights from Tasks C and D\n",
        "\n",
        "We used the Entry Level Luxury Performance Sedans forum (URL included below), and in that forum, we scraped the 5033 newest comments for our analysis as that would be more relevant for the client. We manually found the most reference adjectives to be the top 5 attributes in task F. We based our aspirations list on the combinations of certain words found in the posts. That list of words was compiled into ‘aspir_list’ to establish which posts are aspirational. When looking at the aspirations, we discovered that Hyundai scored much higher than other brands. Upon further review, we found that 42% of these aspirational comments were regarding the Hyundai brand Genesis.\n",
        "\n",
        "When considering tasks C and D (lift ratios and MDS map), we can observe the results of these analyses. The highest lift value comes from Acura with Infiniti. These brands are close to the center of the graph, suggesting that they contain lots of the same ‘base’ features, while other brands stray farther to the edges as their references are most likely from their other features. The results also show that BMW is distant from all other brands on the map and not having a lift value higher than 2.11 (the lowest maximum lift value for a brand); they have found ways to set themselves apart from the competition. The real competitors can be found through high lift values and/or a small relative distance on the MDS map. The high lift values equate to brands mentioned together, but that does not always mean they are similar. While a small distance apart on the MDS map suggests the brands are similar but says nothing about if the brands are mentioned together.\n",
        "\n",
        "The best way to find the real competitors is by comparing the lift values and the locations on the map, such as how the lift values and MDS map show that Acura and Infiniti are competitors. These are similar cars showing that this makes sense. Additionally, there are examples such as Acura and Volkswagen or BMW and Seat. In both cases, they are far apart on the map; however, people talk about the two together, making them competitors. This can be seen by both sets of brands having high lift values in these to their competitor. An example of this is Honda and Acura; they have a very high lift value but are not close together on the MDS map. \n",
        "\n",
        "https://forums.edmunds.com/discussion/2864/general/x/entry-level-luxury-performance-sedans/p"
      ]
    },
    {
      "cell_type": "markdown",
      "metadata": {
        "id": "dKJHJ3Pg5LmG"
      },
      "source": [
        "# Task F: 5 most frequently mentioned attributes"
      ]
    },
    {
      "cell_type": "code",
      "metadata": {
        "id": "gzqgsESwvGp3",
        "colab": {
          "base_uri": "https://localhost:8080/",
          "height": 206
        },
        "outputId": "d6ee0ec8-b220-44a5-fc20-d995c07d0bb6"
      },
      "source": [
        "# Manually checked the top 5 attributes from the counts list. The top 5 attributes are:\n",
        "# Engine, Performance, Luxury, Money, Price. Extracting these from all_word_counts and making a lift chart\n",
        "\n",
        "attributes = ['engine','performance','luxury','money','price']\n",
        "\n",
        "lift_attributes = pd.DataFrame(columns=lift.columns,index=attributes)\n",
        "\n",
        "for i in attributes:\n",
        "  for j in lift.columns:\n",
        "    lift_attributes.loc[i,j] = n*((lift_df[i]*lift_df[j]).sum())/(lift_df[i].sum() * lift_df[j].sum())\n",
        "\n",
        "lift_attributes"
      ],
      "execution_count": null,
      "outputs": [
        {
          "output_type": "execute_result",
          "data": {
            "text/html": [
              "<div>\n",
              "<style scoped>\n",
              "    .dataframe tbody tr th:only-of-type {\n",
              "        vertical-align: middle;\n",
              "    }\n",
              "\n",
              "    .dataframe tbody tr th {\n",
              "        vertical-align: top;\n",
              "    }\n",
              "\n",
              "    .dataframe thead th {\n",
              "        text-align: right;\n",
              "    }\n",
              "</style>\n",
              "<table border=\"1\" class=\"dataframe\">\n",
              "  <thead>\n",
              "    <tr style=\"text-align: right;\">\n",
              "      <th>Brand</th>\n",
              "      <th>bmw</th>\n",
              "      <th>audi</th>\n",
              "      <th>acura</th>\n",
              "      <th>honda</th>\n",
              "      <th>seat</th>\n",
              "      <th>volkswagen</th>\n",
              "      <th>infiniti</th>\n",
              "      <th>cadillac</th>\n",
              "      <th>toyota</th>\n",
              "      <th>hyundai</th>\n",
              "    </tr>\n",
              "  </thead>\n",
              "  <tbody>\n",
              "    <tr>\n",
              "      <th>engine</th>\n",
              "      <td>1.6727</td>\n",
              "      <td>1.92344</td>\n",
              "      <td>2.04593</td>\n",
              "      <td>1.65347</td>\n",
              "      <td>2.3336</td>\n",
              "      <td>1.92753</td>\n",
              "      <td>1.69306</td>\n",
              "      <td>0.932037</td>\n",
              "      <td>1.29716</td>\n",
              "      <td>1.65923</td>\n",
              "    </tr>\n",
              "    <tr>\n",
              "      <th>performance</th>\n",
              "      <td>1.92271</td>\n",
              "      <td>2.30549</td>\n",
              "      <td>1.96186</td>\n",
              "      <td>1.65734</td>\n",
              "      <td>2.13834</td>\n",
              "      <td>1.907</td>\n",
              "      <td>2.37197</td>\n",
              "      <td>2.43746</td>\n",
              "      <td>2.31002</td>\n",
              "      <td>1.04175</td>\n",
              "    </tr>\n",
              "    <tr>\n",
              "      <th>luxury</th>\n",
              "      <td>1.81863</td>\n",
              "      <td>2.20167</td>\n",
              "      <td>2.35476</td>\n",
              "      <td>2.00882</td>\n",
              "      <td>2.35621</td>\n",
              "      <td>1.6972</td>\n",
              "      <td>2.61364</td>\n",
              "      <td>3.74094</td>\n",
              "      <td>1.66429</td>\n",
              "      <td>2.71321</td>\n",
              "    </tr>\n",
              "    <tr>\n",
              "      <th>money</th>\n",
              "      <td>1.62465</td>\n",
              "      <td>2.43782</td>\n",
              "      <td>1.82812</td>\n",
              "      <td>2.2081</td>\n",
              "      <td>2.01441</td>\n",
              "      <td>1.54724</td>\n",
              "      <td>3.16022</td>\n",
              "      <td>2.41627</td>\n",
              "      <td>2.95931</td>\n",
              "      <td>1.78751</td>\n",
              "    </tr>\n",
              "    <tr>\n",
              "      <th>price</th>\n",
              "      <td>2.03567</td>\n",
              "      <td>2.00358</td>\n",
              "      <td>1.79967</td>\n",
              "      <td>1.79238</td>\n",
              "      <td>2.71552</td>\n",
              "      <td>1.53687</td>\n",
              "      <td>1.81704</td>\n",
              "      <td>2.53015</td>\n",
              "      <td>2.04183</td>\n",
              "      <td>2.43251</td>\n",
              "    </tr>\n",
              "  </tbody>\n",
              "</table>\n",
              "</div>"
            ],
            "text/plain": [
              "Brand            bmw     audi    acura  ...  cadillac   toyota  hyundai\n",
              "engine        1.6727  1.92344  2.04593  ...  0.932037  1.29716  1.65923\n",
              "performance  1.92271  2.30549  1.96186  ...   2.43746  2.31002  1.04175\n",
              "luxury       1.81863  2.20167  2.35476  ...   3.74094  1.66429  2.71321\n",
              "money        1.62465  2.43782  1.82812  ...   2.41627  2.95931  1.78751\n",
              "price        2.03567  2.00358  1.79967  ...   2.53015  2.04183  2.43251\n",
              "\n",
              "[5 rows x 10 columns]"
            ]
          },
          "metadata": {},
          "execution_count": 19
        }
      ]
    },
    {
      "cell_type": "markdown",
      "metadata": {
        "id": "mB4g4trfMFJN"
      },
      "source": [
        "# Task G: Advice based off frequently mentioned attributes\n",
        "The top five attributes were obtained as they were the attributes with the highest word counts. The advice to give to the clients would be that while these are the five highest mentioned attributes, they are not the only ones that matter. The lifts based on attributes shine a light on what the consumer cares about. Cadillac has a comparatively low engine rating, but their lift value for luxury balances that out where overall Cadillac has the highest average lift using these five attributes. BMW scores low (comparatively) in all sections except price. BMW makes up for those through its reputation and name recognition.\n",
        "\n",
        "Additionally, the attribute of luxury has the highest lifts. People care most about their car being 'luxury,' which means different things to different people. The suggestion is that while marketing any car, including the concept of the car being 'luxury,' can increase sales as that is one of the main things people talked about in the forum. Luxury is the third most mentioned attribute; however, the marketing department should start its efforts there. Engine and performance are both things that can be defined and evaluated by other consumers; however, luxury can not be distinctly defined and varies from person to person. This is why the marketing department should focus their attention there. Engine, performance, and price (to an extent) are all things out of marketing's control. \n",
        "\n",
        "Price and money have different lift values, suggesting that people use the words in other contexts. In cases such as Audi, Honda, Infiniti, and Toyota, money has a much higher lift. These are brands where the price of cars are not thought of being as high as brands such as BMW and Cadillac. Phrases such as 'good value for your money' could be used in conjunction with these brands. This would raise the lift values of money but not price. Meanwhile, the typically 'higher' cost brands have larger lifts in regards to price. Overall having a good value for money is a quality people prefer when buying cars."
      ]
    },
    {
      "cell_type": "markdown",
      "metadata": {
        "id": "J9N0NJFzhNLm"
      },
      "source": [
        "# Task H: Most Aspirational Brands\n"
      ]
    },
    {
      "cell_type": "code",
      "metadata": {
        "id": "eM9VvOWUhWbT"
      },
      "source": [
        "import string\n",
        "from string import punctuation\n",
        "from nltk.util import ngrams\n",
        "import nltk"
      ],
      "execution_count": null,
      "outputs": []
    },
    {
      "cell_type": "code",
      "metadata": {
        "id": "3s1F7pDRm3MZ"
      },
      "source": [
        "#creating a list to remove punctuations\n",
        "punct = set(list(punctuation))\n",
        "#function for removing punctuations and creating bi-grams for each comment in the dataframe\n",
        "def create_bigrams(x):\n",
        "  x = str(x)\n",
        "  tokens = word_tokenize(x)\n",
        "  filtered_words = [word.lower() for word in tokens if word not in punct]\n",
        "  bigram = ngrams(filtered_words, 2)\n",
        "  return bigram\n",
        "  \n",
        "comments['Bigram list'] = comments['comments'].map(create_bigrams)\n",
        "comments['Bigram list'] = comments['Bigram list'].map(lambda x : list(x))"
      ],
      "execution_count": null,
      "outputs": []
    },
    {
      "cell_type": "code",
      "metadata": {
        "id": "5nD-v_dMnsUV"
      },
      "source": [
        "#creating a list of supposed aspirational phrases (bi-grams)\n",
        "aspir_list = []\n",
        "aspir_list = [('love', 'to'),\n",
        "('would', 'love'),\n",
        "('would', 'hope'),\n",
        "('hope', 'to'),\n",
        "('wish', 'to'),\n",
        "('wish', 'that'),\n",
        "('wish', 'for'),\n",
        "('wishing', 'for'),\n",
        "('want', 'to'),\n",
        "('wants', 'to'),\n",
        "('dream', 'of'),\n",
        "('daydreaming', 'about'),\n",
        "('dream', 'to'),\n",
        "('desire', 'for'),\n",
        "('desire', 'to'),\n",
        "('everyone', 'desires'),\n",
        "('future', 'car'),\n",
        "('near', 'future'),\n",
        "('future', 'vehicle'),\n",
        "('to', 'buy'),\n",
        "('like', 'to'),\n",
        "('will', 'get'),\n",
        "('could', 'get'),\n",
        "('I', 'wish'),\n",
        "('can', 'get'),\n",
        "('buy', 'the'),\n",
        "('buy', 'it'),\n",
        "('can', 'buy'),\n",
        "('would', 'buy'),\n",
        "('will', 'buy'),\n",
        "('will', 'buy'),\n",
        "('could', 'buy'),\n",
        "('buy', 'cars'),\n",
        "('buy', 'new'),\n",
        "('may', 'buy'),\n",
        "('to', 'purchase'),\n",
        "('purchase', 'the'),\n",
        "('purchase', 'it'),\n",
        "('purchase', 'cars'),\n",
        "('possible', 'purchase'),\n",
        "('will', 'purchase'),\n",
        "('next', 'purchase')]"
      ],
      "execution_count": null,
      "outputs": []
    },
    {
      "cell_type": "code",
      "metadata": {
        "id": "pUgdY5qDn6E7"
      },
      "source": [
        "#function for flagging comments which have aspirational bi-grams\n",
        "def aspir_count(comment):\n",
        "  for i in range(len(comment)):\n",
        "    if comment[i] in aspir_list:\n",
        "      return 1\n",
        "      break"
      ],
      "execution_count": null,
      "outputs": []
    },
    {
      "cell_type": "code",
      "metadata": {
        "id": "dT0Jw67Bn6t7"
      },
      "source": [
        "comments['aspirations'] = comments['Bigram list'].map(aspir_count)\n",
        "comments['aspirations'].fillna(0, inplace=True)"
      ],
      "execution_count": null,
      "outputs": []
    },
    {
      "cell_type": "code",
      "metadata": {
        "id": "DM6VSlDl8qZX",
        "colab": {
          "base_uri": "https://localhost:8080/"
        },
        "outputId": "22307495-b901-4630-80c3-6655f9628b97"
      },
      "source": [
        "#no of comments with non aspirational bi-grams(index = 0.0) vs those with aspirational bi-grams( index = 1.0)\n",
        "comments['aspirations'].value_counts()"
      ],
      "execution_count": null,
      "outputs": [
        {
          "output_type": "execute_result",
          "data": {
            "text/plain": [
              "0.0    4405\n",
              "1.0     628\n",
              "Name: aspirations, dtype: int64"
            ]
          },
          "metadata": {},
          "execution_count": 25
        }
      ]
    },
    {
      "cell_type": "code",
      "metadata": {
        "id": "ixCiMrG2AfsV",
        "colab": {
          "base_uri": "https://localhost:8080/"
        },
        "outputId": "015c3e64-93ed-4e34-802b-c46609507ab3"
      },
      "source": [
        "# getting the top 10 brands and attaching the aspiration column from comments to aspiration_df\n",
        "aspiration_df = lift_df[top_10_brands]\n",
        "aspiration_df['aspirations'] = comments['aspirations']"
      ],
      "execution_count": null,
      "outputs": [
        {
          "output_type": "stream",
          "name": "stderr",
          "text": [
            "/usr/local/lib/python3.7/dist-packages/ipykernel_launcher.py:3: SettingWithCopyWarning: \n",
            "A value is trying to be set on a copy of a slice from a DataFrame.\n",
            "Try using .loc[row_indexer,col_indexer] = value instead\n",
            "\n",
            "See the caveats in the documentation: https://pandas.pydata.org/pandas-docs/stable/user_guide/indexing.html#returning-a-view-versus-a-copy\n",
            "  This is separate from the ipykernel package so we can avoid doing imports until\n"
          ]
        }
      ]
    },
    {
      "cell_type": "code",
      "metadata": {
        "id": "FosUAy6nIt3x"
      },
      "source": [
        "#creating an empty dataframe with an aspiration column to calculate lift of brands vs aspiration\n",
        "aspiration_lift = pd.DataFrame(columns = ['Aspiration'])"
      ],
      "execution_count": null,
      "outputs": []
    },
    {
      "cell_type": "code",
      "metadata": {
        "id": "9uA7FuSYKEeU"
      },
      "source": [
        "# caluculating lift and inserting lift values into the dataframe\n",
        "n = len(aspiration_df)\n",
        "for brand in aspiration_df.columns.values:\n",
        "  freq_brand = aspiration_df[brand].sum()\n",
        "  freq_aspiration = aspiration_df['aspirations'].sum()\n",
        "  freq_brand_aspiration = aspiration_df['aspirations'][(aspiration_df[brand] == 1) & (aspiration_df['aspirations'] == 1 )].sum()\n",
        "  lift_attr = n * freq_brand_aspiration / (freq_brand * freq_aspiration)\n",
        "  aspiration_lift.loc[brand] = lift_attr"
      ],
      "execution_count": null,
      "outputs": []
    },
    {
      "cell_type": "code",
      "metadata": {
        "id": "ub6PTkebKFhv",
        "colab": {
          "base_uri": "https://localhost:8080/",
          "height": 363
        },
        "outputId": "13f102e0-c448-4619-a04b-fa8207e0c02f"
      },
      "source": [
        "aspiration_lift.sort_values(by = 'Aspiration', ascending = False)[1:]"
      ],
      "execution_count": null,
      "outputs": [
        {
          "output_type": "execute_result",
          "data": {
            "text/html": [
              "<div>\n",
              "<style scoped>\n",
              "    .dataframe tbody tr th:only-of-type {\n",
              "        vertical-align: middle;\n",
              "    }\n",
              "\n",
              "    .dataframe tbody tr th {\n",
              "        vertical-align: top;\n",
              "    }\n",
              "\n",
              "    .dataframe thead th {\n",
              "        text-align: right;\n",
              "    }\n",
              "</style>\n",
              "<table border=\"1\" class=\"dataframe\">\n",
              "  <thead>\n",
              "    <tr style=\"text-align: right;\">\n",
              "      <th></th>\n",
              "      <th>Aspiration</th>\n",
              "    </tr>\n",
              "  </thead>\n",
              "  <tbody>\n",
              "    <tr>\n",
              "      <th>hyundai</th>\n",
              "      <td>2.333844</td>\n",
              "    </tr>\n",
              "    <tr>\n",
              "      <th>infiniti</th>\n",
              "      <td>1.985201</td>\n",
              "    </tr>\n",
              "    <tr>\n",
              "      <th>audi</th>\n",
              "      <td>1.960193</td>\n",
              "    </tr>\n",
              "    <tr>\n",
              "      <th>toyota</th>\n",
              "      <td>1.941616</td>\n",
              "    </tr>\n",
              "    <tr>\n",
              "      <th>honda</th>\n",
              "      <td>1.868726</td>\n",
              "    </tr>\n",
              "    <tr>\n",
              "      <th>seat</th>\n",
              "      <td>1.807744</td>\n",
              "    </tr>\n",
              "    <tr>\n",
              "      <th>cadillac</th>\n",
              "      <td>1.780962</td>\n",
              "    </tr>\n",
              "    <tr>\n",
              "      <th>acura</th>\n",
              "      <td>1.612640</td>\n",
              "    </tr>\n",
              "    <tr>\n",
              "      <th>bmw</th>\n",
              "      <td>1.598119</td>\n",
              "    </tr>\n",
              "    <tr>\n",
              "      <th>volkswagen</th>\n",
              "      <td>1.534659</td>\n",
              "    </tr>\n",
              "  </tbody>\n",
              "</table>\n",
              "</div>"
            ],
            "text/plain": [
              "            Aspiration\n",
              "hyundai       2.333844\n",
              "infiniti      1.985201\n",
              "audi          1.960193\n",
              "toyota        1.941616\n",
              "honda         1.868726\n",
              "seat          1.807744\n",
              "cadillac      1.780962\n",
              "acura         1.612640\n",
              "bmw           1.598119\n",
              "volkswagen    1.534659"
            ]
          },
          "metadata": {},
          "execution_count": 29
        }
      ]
    },
    {
      "cell_type": "code",
      "metadata": {
        "id": "-s0l1irHL9sp"
      },
      "source": [
        "# Getting the list of comments which shows association between aspiration and hyundai\n",
        "hyundai_aspr_cmts = comments.iloc[aspiration_df[(aspiration_df['hyundai']==1) & (aspiration_df['aspirations']==1.0)].index.values]['comments']"
      ],
      "execution_count": null,
      "outputs": []
    },
    {
      "cell_type": "code",
      "metadata": {
        "colab": {
          "base_uri": "https://localhost:8080/"
        },
        "id": "jrGMzGB38xuw",
        "outputId": "1ac3ddc0-e592-4efa-af44-51a81b3bd51d"
      },
      "source": [
        "# Checking for comments which have association between hyundai and aspiration and include of Genesis \n",
        "def chk_genesis(x):\n",
        "  words = x.split()\n",
        "  words = [word.lower() for word in words]\n",
        "  if 'genesis' in words:\n",
        "    return True\n",
        "  else:\n",
        "    return False\n",
        "\n",
        "hyundai_aspr_cmts.map(chk_genesis).sum()/len(hyundai_aspr_cmts)"
      ],
      "execution_count": null,
      "outputs": [
        {
          "output_type": "execute_result",
          "data": {
            "text/plain": [
              "0.41509433962264153"
            ]
          },
          "metadata": {},
          "execution_count": 31
        }
      ]
    },
    {
      "cell_type": "markdown",
      "metadata": {
        "id": "lXTH7CPZ3gJ_"
      },
      "source": [
        "We found that Hyundai is the most aspirational brand, which was unexpected.  Despite being the brand with the 9th highest mentions in the comments, Hyundai has topped the 'Most Aspirational Brands' list indicating that in the few times that people spoke about Hyundai, they aspired to have a Hyundai car. Hyundai caters to the middle-class segment and is not what people typically consider a luxury brand. Hyundai doesn't even appear in the first two pages of results for luxury brands on JD Power Associates website, which is in error based on our results. After looking into why these aspirations results were present, we learned about Hunadi's luxury car: Genesis. \n",
        "\n",
        "In 42 percent of comments which showed an association between Hyundai and aspiration, the user also mentioned Genesis. Hyundai has been able to break the barrier of not being considered a luxurious brand with its Genesis model and can break into the luxury cars' league. Genesis is a luxury car in the same price range as an entry-level BMWs. People prefer the higher-end car of a regular brand compared to the entry-level BMW car because there are more features in the high-end model of Hyundai compared to an entry-level luxury brand.\n",
        "\n",
        "BMW and Audi were two brands with the highest mentions, and despite that and the fact that they are seen as the epitome of luxury cars, shockingly, they were not the brands at the top of the aspirational list. Audi takes third place with non-luxury brands like Hyundai and Nissan (Infiniti child company) beating it. At the same time, BMW fares poorly towards the bottom, indicating the hypothesis that people probably care more about the features that they get in the luxury car (ex: Genesis is Hyundai's top model) rather than the brand name. Our suggestion to the clients would be to target the Genesis marketing and include it in the luxury vehicles segment of cars.\n",
        "\n"
      ]
    },
    {
      "cell_type": "code",
      "metadata": {
        "id": "YdM6oD3t81CN"
      },
      "source": [
        ""
      ],
      "execution_count": null,
      "outputs": []
    },
    {
      "cell_type": "code",
      "metadata": {
        "id": "ESO_05cE3e06"
      },
      "source": [
        ""
      ],
      "execution_count": null,
      "outputs": []
    },
    {
      "cell_type": "code",
      "metadata": {
        "id": "DLuXAn6V-XJa"
      },
      "source": [
        ""
      ],
      "execution_count": null,
      "outputs": []
    }
  ]
}